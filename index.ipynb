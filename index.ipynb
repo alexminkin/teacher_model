{
 "cells": [
  {
   "cell_type": "markdown",
   "id": "8e4e1d3d",
   "metadata": {},
   "source": [
    "# Bank customer churn"
   ]
  },
  {
   "cell_type": "markdown",
   "id": "e9b180ca",
   "metadata": {},
   "source": [
    "Clients started leaving the bank. Every month. A little, but noticeable. Banking marketers figured it was cheaper to keep current customers than to attract new ones.\n",
    "\n",
    "It is necessary to predict whether the client will leave the bank in the near future or not. Provided historical data on customer behavior and termination of agreements with the bank.\n",
    "\n",
    "It is necessary to build a model with an extremely large value of the F1-measure. It is necessary to bring the metric to 0.59."
   ]
  },
  {
   "cell_type": "markdown",
   "id": "0a004145",
   "metadata": {},
   "source": [
    "## Import required libraries"
   ]
  },
  {
   "cell_type": "code",
   "execution_count": 1,
   "id": "2849f311",
   "metadata": {},
   "outputs": [],
   "source": [
    "import pandas as pd\n",
    "import numpy as np\n",
    "import matplotlib.pyplot as plt\n",
    "from sklearn.model_selection import train_test_split\n",
    "from sklearn.linear_model import LogisticRegression\n",
    "from sklearn.tree import DecisionTreeClassifier\n",
    "from sklearn.ensemble import RandomForestClassifier\n",
    "from sklearn.tree import DecisionTreeRegressor\n",
    "from sklearn.ensemble import ExtraTreesRegressor\n",
    "from sklearn.linear_model import LinearRegression\n",
    "from sklearn.preprocessing import StandardScaler\n",
    "from sklearn.preprocessing import OrdinalEncoder\n",
    "from sklearn.metrics import accuracy_score, precision_score, recall_score, f1_score, roc_curve, roc_auc_score\n",
    "from sklearn.model_selection import cross_val_score, GridSearchCV, train_test_split\n",
    "from sklearn.utils import shuffle\n",
    "import warnings"
   ]
  },
  {
   "cell_type": "code",
   "execution_count": 2,
   "id": "5d15ded0",
   "metadata": {},
   "outputs": [],
   "source": [
    "warnings.filterwarnings('ignore')"
   ]
  },
  {
   "cell_type": "markdown",
   "id": "70bba24f",
   "metadata": {},
   "source": [
    "## Constants"
   ]
  },
  {
   "cell_type": "code",
   "execution_count": 3,
   "id": "965497b3",
   "metadata": {},
   "outputs": [],
   "source": [
    "CONST_RANDOM = 122345"
   ]
  },
  {
   "cell_type": "markdown",
   "id": "7d33aabc",
   "metadata": {},
   "source": [
    "## Data overview"
   ]
  },
  {
   "cell_type": "code",
   "execution_count": 4,
   "id": "4d64b5bc",
   "metadata": {},
   "outputs": [],
   "source": [
    "try:\n",
    "    df = pd.read_csv('/datasets/Churn.csv')\n",
    "except:\n",
    "    df = pd.read_csv('datasets/Churn.csv')"
   ]
  },
  {
   "cell_type": "code",
   "execution_count": 5,
   "id": "7a74dfad",
   "metadata": {},
   "outputs": [
    {
     "name": "stdout",
     "output_type": "stream",
     "text": [
      "<class 'pandas.core.frame.DataFrame'>\n",
      "RangeIndex: 10000 entries, 0 to 9999\n",
      "Data columns (total 14 columns):\n",
      " #   Column           Non-Null Count  Dtype  \n",
      "---  ------           --------------  -----  \n",
      " 0   RowNumber        10000 non-null  int64  \n",
      " 1   CustomerId       10000 non-null  int64  \n",
      " 2   Surname          10000 non-null  object \n",
      " 3   CreditScore      10000 non-null  int64  \n",
      " 4   Geography        10000 non-null  object \n",
      " 5   Gender           10000 non-null  object \n",
      " 6   Age              10000 non-null  int64  \n",
      " 7   Tenure           9091 non-null   float64\n",
      " 8   Balance          10000 non-null  float64\n",
      " 9   NumOfProducts    10000 non-null  int64  \n",
      " 10  HasCrCard        10000 non-null  int64  \n",
      " 11  IsActiveMember   10000 non-null  int64  \n",
      " 12  EstimatedSalary  10000 non-null  float64\n",
      " 13  Exited           10000 non-null  int64  \n",
      "dtypes: float64(3), int64(8), object(3)\n",
      "memory usage: 1.1+ MB\n"
     ]
    }
   ],
   "source": [
    "df.info()"
   ]
  },
  {
   "cell_type": "code",
   "execution_count": 6,
   "id": "11e07629",
   "metadata": {},
   "outputs": [
    {
     "data": {
      "text/html": [
       "<div>\n",
       "<style scoped>\n",
       "    .dataframe tbody tr th:only-of-type {\n",
       "        vertical-align: middle;\n",
       "    }\n",
       "\n",
       "    .dataframe tbody tr th {\n",
       "        vertical-align: top;\n",
       "    }\n",
       "\n",
       "    .dataframe thead th {\n",
       "        text-align: right;\n",
       "    }\n",
       "</style>\n",
       "<table border=\"1\" class=\"dataframe\">\n",
       "  <thead>\n",
       "    <tr style=\"text-align: right;\">\n",
       "      <th></th>\n",
       "      <th>RowNumber</th>\n",
       "      <th>CustomerId</th>\n",
       "      <th>Surname</th>\n",
       "      <th>CreditScore</th>\n",
       "      <th>Geography</th>\n",
       "      <th>Gender</th>\n",
       "      <th>Age</th>\n",
       "      <th>Tenure</th>\n",
       "      <th>Balance</th>\n",
       "      <th>NumOfProducts</th>\n",
       "      <th>HasCrCard</th>\n",
       "      <th>IsActiveMember</th>\n",
       "      <th>EstimatedSalary</th>\n",
       "      <th>Exited</th>\n",
       "    </tr>\n",
       "  </thead>\n",
       "  <tbody>\n",
       "    <tr>\n",
       "      <th>0</th>\n",
       "      <td>1</td>\n",
       "      <td>15634602</td>\n",
       "      <td>Hargrave</td>\n",
       "      <td>619</td>\n",
       "      <td>France</td>\n",
       "      <td>Female</td>\n",
       "      <td>42</td>\n",
       "      <td>2.0</td>\n",
       "      <td>0.00</td>\n",
       "      <td>1</td>\n",
       "      <td>1</td>\n",
       "      <td>1</td>\n",
       "      <td>101348.88</td>\n",
       "      <td>1</td>\n",
       "    </tr>\n",
       "    <tr>\n",
       "      <th>1</th>\n",
       "      <td>2</td>\n",
       "      <td>15647311</td>\n",
       "      <td>Hill</td>\n",
       "      <td>608</td>\n",
       "      <td>Spain</td>\n",
       "      <td>Female</td>\n",
       "      <td>41</td>\n",
       "      <td>1.0</td>\n",
       "      <td>83807.86</td>\n",
       "      <td>1</td>\n",
       "      <td>0</td>\n",
       "      <td>1</td>\n",
       "      <td>112542.58</td>\n",
       "      <td>0</td>\n",
       "    </tr>\n",
       "    <tr>\n",
       "      <th>2</th>\n",
       "      <td>3</td>\n",
       "      <td>15619304</td>\n",
       "      <td>Onio</td>\n",
       "      <td>502</td>\n",
       "      <td>France</td>\n",
       "      <td>Female</td>\n",
       "      <td>42</td>\n",
       "      <td>8.0</td>\n",
       "      <td>159660.80</td>\n",
       "      <td>3</td>\n",
       "      <td>1</td>\n",
       "      <td>0</td>\n",
       "      <td>113931.57</td>\n",
       "      <td>1</td>\n",
       "    </tr>\n",
       "    <tr>\n",
       "      <th>3</th>\n",
       "      <td>4</td>\n",
       "      <td>15701354</td>\n",
       "      <td>Boni</td>\n",
       "      <td>699</td>\n",
       "      <td>France</td>\n",
       "      <td>Female</td>\n",
       "      <td>39</td>\n",
       "      <td>1.0</td>\n",
       "      <td>0.00</td>\n",
       "      <td>2</td>\n",
       "      <td>0</td>\n",
       "      <td>0</td>\n",
       "      <td>93826.63</td>\n",
       "      <td>0</td>\n",
       "    </tr>\n",
       "    <tr>\n",
       "      <th>4</th>\n",
       "      <td>5</td>\n",
       "      <td>15737888</td>\n",
       "      <td>Mitchell</td>\n",
       "      <td>850</td>\n",
       "      <td>Spain</td>\n",
       "      <td>Female</td>\n",
       "      <td>43</td>\n",
       "      <td>2.0</td>\n",
       "      <td>125510.82</td>\n",
       "      <td>1</td>\n",
       "      <td>1</td>\n",
       "      <td>1</td>\n",
       "      <td>79084.10</td>\n",
       "      <td>0</td>\n",
       "    </tr>\n",
       "  </tbody>\n",
       "</table>\n",
       "</div>"
      ],
      "text/plain": [
       "   RowNumber  CustomerId   Surname  CreditScore Geography  Gender  Age  \\\n",
       "0          1    15634602  Hargrave          619    France  Female   42   \n",
       "1          2    15647311      Hill          608     Spain  Female   41   \n",
       "2          3    15619304      Onio          502    France  Female   42   \n",
       "3          4    15701354      Boni          699    France  Female   39   \n",
       "4          5    15737888  Mitchell          850     Spain  Female   43   \n",
       "\n",
       "   Tenure    Balance  NumOfProducts  HasCrCard  IsActiveMember  \\\n",
       "0     2.0       0.00              1          1               1   \n",
       "1     1.0   83807.86              1          0               1   \n",
       "2     8.0  159660.80              3          1               0   \n",
       "3     1.0       0.00              2          0               0   \n",
       "4     2.0  125510.82              1          1               1   \n",
       "\n",
       "   EstimatedSalary  Exited  \n",
       "0        101348.88       1  \n",
       "1        112542.58       0  \n",
       "2        113931.57       1  \n",
       "3         93826.63       0  \n",
       "4         79084.10       0  "
      ]
     },
     "execution_count": 6,
     "metadata": {},
     "output_type": "execute_result"
    }
   ],
   "source": [
    "df.head()"
   ]
  },
  {
   "cell_type": "markdown",
   "id": "d9e28207",
   "metadata": {},
   "source": [
    "## Data preprocessing"
   ]
  },
  {
   "cell_type": "markdown",
   "id": "61936b8b",
   "metadata": {},
   "source": [
    "### Handling missing values"
   ]
  },
  {
   "cell_type": "code",
   "execution_count": 7,
   "id": "83a65f89",
   "metadata": {},
   "outputs": [
    {
     "data": {
      "text/plain": [
       "RowNumber            0\n",
       "CustomerId           0\n",
       "Surname              0\n",
       "CreditScore          0\n",
       "Geography            0\n",
       "Gender               0\n",
       "Age                  0\n",
       "Tenure             909\n",
       "Balance              0\n",
       "NumOfProducts        0\n",
       "HasCrCard            0\n",
       "IsActiveMember       0\n",
       "EstimatedSalary      0\n",
       "Exited               0\n",
       "dtype: int64"
      ]
     },
     "execution_count": 7,
     "metadata": {},
     "output_type": "execute_result"
    }
   ],
   "source": [
    "df.isna().sum()"
   ]
  },
  {
   "cell_type": "markdown",
   "id": "66c93739",
   "metadata": {},
   "source": [
    "Only Tenure has the missing values. Let's fill these values using ML-methods (regression problem). For Tenure we will use next train features: \n",
    "- Age\n",
    "- NumOfProducts\n",
    "- Gender\n",
    "- Geography"
   ]
  },
  {
   "cell_type": "markdown",
   "id": "20090788",
   "metadata": {},
   "source": [
    "#### Initializing useful functions"
   ]
  },
  {
   "cell_type": "markdown",
   "id": "4e69d263",
   "metadata": {},
   "source": [
    "**Preparation of training and test datasets**"
   ]
  },
  {
   "cell_type": "code",
   "execution_count": 8,
   "id": "7ec6edee",
   "metadata": {},
   "outputs": [],
   "source": [
    "def prepare_data(features, target):\n",
    "    is_obj = False\n",
    "    df_new = pd.DataFrame()\n",
    "    for feature in features:\n",
    "        df_new[feature] = df[feature]\n",
    "        if df[feature].dtype == 'O':\n",
    "            is_obj = True\n",
    "    df_new[target] = df[target]\n",
    "    \n",
    "    df_test = df_new[df_new[target].isna()]\n",
    "    df_train = df_new[~df_new[target].isna()]\n",
    "    \n",
    "    features_test = df_test.drop([target], axis=1)\n",
    "    target_test = df_test[target]\n",
    "    \n",
    "    features_train = df_train.drop([target], axis=1)\n",
    "    target_train = df_train[target]\n",
    "    \n",
    "    if is_obj:\n",
    "        model = OrdinalEncoder()\n",
    "        array_feat_test = model.fit_transform(features_test)\n",
    "        array_feat_train = model.fit_transform(features_train)\n",
    "        features_test = pd.DataFrame(array_feat_test, index=features_test.index, columns=features_test.columns)\n",
    "        features_train = pd.DataFrame(array_feat_train, index=features_train.index, columns=features_train.columns)\n",
    "    \n",
    "    return features_train, features_test, target_train, target_test"
   ]
  },
  {
   "cell_type": "markdown",
   "id": "27f0ce0a",
   "metadata": {},
   "source": [
    "**Getting a completed feature**"
   ]
  },
  {
   "cell_type": "code",
   "execution_count": 9,
   "id": "19513e40",
   "metadata": {},
   "outputs": [],
   "source": [
    "def join_predictions(features_train, target_train, features_test, target_predict, target_name):\n",
    "    df_predict = pd.DataFrame(data=target_predict, index=features_test.index, columns=[target_name])\n",
    "    features_train[target_name] = target_train\n",
    "    df_intermediate = pd.concat([features_test.join(df_predict), features_train])\n",
    "    return df_intermediate[target_name]"
   ]
  },
  {
   "cell_type": "code",
   "execution_count": 10,
   "id": "58e3c1a3",
   "metadata": {},
   "outputs": [
    {
     "name": "stdout",
     "output_type": "stream",
     "text": [
      "(9091, 4)\n",
      "(909, 4)\n",
      "(9091,)\n",
      "(909,)\n"
     ]
    }
   ],
   "source": [
    "features_train_ten, features_test_ten, target_train_ten, target_test_ten = prepare_data(['Age', 'Gender', 'Geography', 'NumOfProducts'], 'Tenure')\n",
    "print(features_train_ten.shape)\n",
    "print(features_test_ten.shape)\n",
    "print(target_train_ten.shape)\n",
    "print(target_test_ten.shape)\n"
   ]
  },
  {
   "cell_type": "markdown",
   "id": "e2dc7bdc",
   "metadata": {},
   "source": [
    "We solve the classification problem and choose the best quality model"
   ]
  },
  {
   "cell_type": "markdown",
   "id": "1d3af2ff",
   "metadata": {},
   "source": [
    "**DecisionTreeRegressor**"
   ]
  },
  {
   "cell_type": "code",
   "execution_count": 11,
   "id": "5116e082",
   "metadata": {},
   "outputs": [
    {
     "data": {
      "text/plain": [
       "3.043351609421632"
      ]
     },
     "execution_count": 11,
     "metadata": {},
     "output_type": "execute_result"
    }
   ],
   "source": [
    "model_tree = DecisionTreeRegressor(random_state=12345, max_depth=16)\n",
    "scores = cross_val_score(model_tree, features_train_ten, target_train_ten, cv=10, scoring='neg_mean_squared_error')\n",
    "best_rmse = sum(list((-1 * np.array(scores)) ** 0.5)) / len(list((-1 * np.array(scores)) ** 0.5))\n",
    "best_rmse"
   ]
  },
  {
   "cell_type": "markdown",
   "id": "b178ac09",
   "metadata": {},
   "source": [
    "**ExtraTreesRegressor**"
   ]
  },
  {
   "cell_type": "code",
   "execution_count": 12,
   "id": "9d2470e2",
   "metadata": {},
   "outputs": [
    {
     "data": {
      "text/plain": [
       "3.0531644295454656"
      ]
     },
     "execution_count": 12,
     "metadata": {},
     "output_type": "execute_result"
    }
   ],
   "source": [
    "model_forest  = ExtraTreesRegressor(random_state=12345, n_estimators=200, max_depth=16)\n",
    "scores = cross_val_score(model_forest, features_train_ten, target_train_ten, cv=10, scoring='neg_mean_squared_error')\n",
    "best_rmse = sum(list((-1 * np.array(scores)) ** 0.5)) / len(list((-1 * np.array(scores)) ** 0.5))\n",
    "best_rmse"
   ]
  },
  {
   "cell_type": "markdown",
   "id": "c92f771d",
   "metadata": {},
   "source": [
    "**LinearRegression**"
   ]
  },
  {
   "cell_type": "code",
   "execution_count": 13,
   "id": "c43f623f",
   "metadata": {},
   "outputs": [
    {
     "data": {
      "text/plain": [
       "2.8956310265560727"
      ]
     },
     "execution_count": 13,
     "metadata": {},
     "output_type": "execute_result"
    }
   ],
   "source": [
    "model_linear  = LinearRegression()\n",
    "scores = cross_val_score(model_linear, features_train_ten, target_train_ten, cv=10, scoring='neg_mean_squared_error')\n",
    "best_rmse = sum(list((-1 * np.array(scores)) ** 0.5)) / len(list((-1 * np.array(scores)) ** 0.5))\n",
    "best_rmse"
   ]
  },
  {
   "cell_type": "markdown",
   "id": "ec2fa900",
   "metadata": {},
   "source": [
    "Choosing the best model to remove missing values – LinearRegression"
   ]
  },
  {
   "cell_type": "code",
   "execution_count": 14,
   "id": "e7c60975",
   "metadata": {},
   "outputs": [],
   "source": [
    "model_linear.fit(features_train_ten, target_train_ten)\n",
    "target_predict_ten = model_linear.predict(features_test_ten)"
   ]
  },
  {
   "cell_type": "code",
   "execution_count": 15,
   "id": "8f4e0602",
   "metadata": {},
   "outputs": [
    {
     "data": {
      "text/plain": [
       "0"
      ]
     },
     "execution_count": 15,
     "metadata": {},
     "output_type": "execute_result"
    }
   ],
   "source": [
    "df['Tenure'] = join_predictions(features_train_ten, target_train_ten, features_test_ten, target_predict_ten, 'Tenure')\n",
    "df['Tenure'].isna().sum()"
   ]
  },
  {
   "cell_type": "markdown",
   "id": "955c079f",
   "metadata": {},
   "source": [
    "### Handling extra features"
   ]
  },
  {
   "cell_type": "markdown",
   "id": "8a2ec793",
   "metadata": {},
   "source": [
    "Remove unnecessary features"
   ]
  },
  {
   "cell_type": "code",
   "execution_count": 16,
   "id": "ac603ee7",
   "metadata": {},
   "outputs": [],
   "source": [
    "df = df.drop(['RowNumber', 'CustomerId', 'Surname'], axis=1)"
   ]
  },
  {
   "cell_type": "markdown",
   "id": "a1c122f6",
   "metadata": {},
   "source": [
    "### Handling types features"
   ]
  },
  {
   "cell_type": "code",
   "execution_count": 17,
   "id": "904f4423",
   "metadata": {},
   "outputs": [],
   "source": [
    "def check_change_type(feature):\n",
    "    if df[feature].dtype == 'float64':\n",
    "        if df[df[feature] % 1 == 0].shape[0] == df.shape[0]:\n",
    "            df[feature] = df[feature].astype('int32')\n",
    "    elif df[feature].dtype == 'int64':\n",
    "        df[feature] = df[feature].astype('int32')"
   ]
  },
  {
   "cell_type": "code",
   "execution_count": 18,
   "id": "bfd79f2b",
   "metadata": {},
   "outputs": [],
   "source": [
    "for column in df.columns:\n",
    "    check_change_type(column)"
   ]
  },
  {
   "cell_type": "markdown",
   "id": "e7185dff",
   "metadata": {},
   "source": [
    "## Data preparation"
   ]
  },
  {
   "cell_type": "markdown",
   "id": "fc867c41",
   "metadata": {},
   "source": [
    "Let's split dataset and encode categorical features"
   ]
  },
  {
   "cell_type": "code",
   "execution_count": 19,
   "id": "3bc31a92",
   "metadata": {
    "scrolled": false
   },
   "outputs": [
    {
     "name": "stdout",
     "output_type": "stream",
     "text": [
      "(8000, 11)\n",
      "(2000, 11)\n"
     ]
    }
   ],
   "source": [
    "features = df.drop(['Exited'], axis=1)\n",
    "target = df['Exited']\n",
    "features_ohe = pd.get_dummies(features, columns=['Geography', 'Gender'], drop_first=True)\n",
    "features_train, features_test, target_train, target_test = train_test_split(features_ohe, target, test_size=0.2, random_state=12345)\n",
    "\n",
    "print(features_train.shape)\n",
    "print(features_test.shape)\n"
   ]
  },
  {
   "cell_type": "markdown",
   "id": "8543b46c",
   "metadata": {},
   "source": [
    "Let's use Scale encoder for numerical features"
   ]
  },
  {
   "cell_type": "code",
   "execution_count": 20,
   "id": "7101e860",
   "metadata": {},
   "outputs": [
    {
     "data": {
      "text/plain": [
       "(8000, 11)"
      ]
     },
     "execution_count": 20,
     "metadata": {},
     "output_type": "execute_result"
    }
   ],
   "source": [
    "numeric = [col for col in features.columns if df[col].dtype != 'O']\n",
    "scaler = StandardScaler()\n",
    "features_train[numeric] = scaler.fit_transform(features_train[numeric])\n",
    "features_train.shape"
   ]
  },
  {
   "cell_type": "markdown",
   "id": "8b246854",
   "metadata": {},
   "source": [
    "## Model training"
   ]
  },
  {
   "cell_type": "markdown",
   "id": "73dfc326",
   "metadata": {},
   "source": [
    "### Constants"
   ]
  },
  {
   "cell_type": "code",
   "execution_count": 21,
   "id": "2b068ab1",
   "metadata": {},
   "outputs": [],
   "source": [
    "PARAMS_LOG = {\n",
    "    'penalty': ['l1', 'l2', 'elasticnet'], \n",
    "    'solver': ['lbfgs', 'liblinear', 'newton-cg', 'newton-cholesky', 'sag', 'saga'], \n",
    "    'max_iter': range(100, 501, 100)\n",
    "}"
   ]
  },
  {
   "cell_type": "code",
   "execution_count": 22,
   "id": "73d3278e",
   "metadata": {},
   "outputs": [],
   "source": [
    "PARAMS_TREE = {\n",
    "    'criterion': ['gini', 'entropy', 'log_loss'], \n",
    "    'splitter': ['best', 'random'], \n",
    "    'max_depth': range(2, 100, 5), \n",
    "    'min_samples_leaf': range(2, 41, 3)\n",
    "}"
   ]
  },
  {
   "cell_type": "code",
   "execution_count": 23,
   "id": "7baa5f6c",
   "metadata": {},
   "outputs": [],
   "source": [
    "PARAMS_FOREST = {\n",
    "    'max_depth': range(2, 24, 5),\n",
    "    'n_estimators': range(100, 401, 100), \n",
    "    #'min_samples_leaf': range(2, 41, 3)\n",
    "}"
   ]
  },
  {
   "cell_type": "markdown",
   "id": "7458aae5",
   "metadata": {},
   "source": [
    "### Model training without class imbalance"
   ]
  },
  {
   "cell_type": "markdown",
   "id": "7212e3c6",
   "metadata": {},
   "source": [
    "#### LogisticRegression"
   ]
  },
  {
   "cell_type": "markdown",
   "id": "fbf4d2fa",
   "metadata": {},
   "source": [
    "Let's make a selections of hyperparameters"
   ]
  },
  {
   "cell_type": "code",
   "execution_count": 24,
   "id": "6132f74d",
   "metadata": {},
   "outputs": [
    {
     "data": {
      "text/plain": [
       "{'max_iter': 100, 'penalty': 'l2', 'solver': 'lbfgs'}"
      ]
     },
     "execution_count": 24,
     "metadata": {},
     "output_type": "execute_result"
    }
   ],
   "source": [
    "model_log = LogisticRegression(random_state=CONST_RANDOM)\n",
    "grid = GridSearchCV(model_log, PARAMS_LOG, cv=8, scoring='f1')\n",
    "grid.fit(features_train, target_train)\n",
    "\n",
    "logistic_hyp = grid.best_params_\n",
    "logistic_hyp"
   ]
  },
  {
   "cell_type": "markdown",
   "id": "cc78f237",
   "metadata": {},
   "source": [
    "Checking the model with the best hyperparameters"
   ]
  },
  {
   "cell_type": "code",
   "execution_count": 25,
   "id": "e7f06559",
   "metadata": {},
   "outputs": [
    {
     "name": "stdout",
     "output_type": "stream",
     "text": [
      "F1 = 0.32019528937523695\n",
      "AUC_ROC = 0.765621015519178\n"
     ]
    }
   ],
   "source": [
    "model_log = LogisticRegression(max_iter=logistic_hyp['max_iter'], penalty=logistic_hyp['penalty'], solver=logistic_hyp['solver'], random_state=CONST_RANDOM)\n",
    "scores_f1 = cross_val_score(model_log, features_train, target_train, cv=8, scoring='f1')\n",
    "scores_roc_auc = cross_val_score(model_log, features_train, target_train, cv=7, scoring='roc_auc')\n",
    "print(f'F1 = {scores_f1.mean()}')\n",
    "print(f'AUC_ROC = {scores_roc_auc.mean()}')"
   ]
  },
  {
   "cell_type": "markdown",
   "id": "2aa3da2d",
   "metadata": {},
   "source": [
    "**Conclusion:** The quality of the model is unsatisfactory"
   ]
  },
  {
   "cell_type": "markdown",
   "id": "1016e7a3",
   "metadata": {},
   "source": [
    "#### DecisionTreeClassifier"
   ]
  },
  {
   "cell_type": "code",
   "execution_count": 26,
   "id": "8f5350b7",
   "metadata": {},
   "outputs": [
    {
     "data": {
      "text/plain": [
       "{'criterion': 'gini',\n",
       " 'max_depth': 17,\n",
       " 'min_samples_leaf': 8,\n",
       " 'splitter': 'random'}"
      ]
     },
     "execution_count": 26,
     "metadata": {},
     "output_type": "execute_result"
    }
   ],
   "source": [
    "model_tree = DecisionTreeClassifier(random_state=CONST_RANDOM)\n",
    "grid = GridSearchCV(model_tree, PARAMS_TREE, cv=8, scoring='f1')\n",
    "grid.fit(features_train, target_train)\n",
    "\n",
    "tree_hyp = grid.best_params_\n",
    "tree_hyp"
   ]
  },
  {
   "cell_type": "code",
   "execution_count": 27,
   "id": "cb62d343",
   "metadata": {},
   "outputs": [
    {
     "name": "stdout",
     "output_type": "stream",
     "text": [
      "F1 = 0.5629118150113271\n",
      "AUC_ROC = 0.8133461246245047\n"
     ]
    }
   ],
   "source": [
    "model_tree = DecisionTreeClassifier(max_depth=tree_hyp['max_depth'], min_samples_leaf=tree_hyp['min_samples_leaf'], splitter=tree_hyp['splitter'], random_state=CONST_RANDOM)\n",
    "scores_f1 = cross_val_score(model_tree, features_train, target_train, cv=8, scoring='f1')\n",
    "scores_roc_auc = cross_val_score(model_tree, features_train, target_train, cv=7, scoring='roc_auc')\n",
    "print(f'F1 = {scores_f1.mean()}')\n",
    "print(f'AUC_ROC = {scores_roc_auc.mean()}')"
   ]
  },
  {
   "cell_type": "markdown",
   "id": "a963f5a5",
   "metadata": {},
   "source": [
    "#### RandomForestClassifier"
   ]
  },
  {
   "cell_type": "code",
   "execution_count": 28,
   "id": "fb5a3136",
   "metadata": {},
   "outputs": [
    {
     "data": {
      "text/plain": [
       "{'max_depth': 17, 'n_estimators': 200}"
      ]
     },
     "execution_count": 28,
     "metadata": {},
     "output_type": "execute_result"
    }
   ],
   "source": [
    "model_forest = RandomForestClassifier(random_state=CONST_RANDOM)\n",
    "grid = GridSearchCV(model_forest, PARAMS_FOREST, cv=8, scoring='f1')\n",
    "grid.fit(features_train, target_train)\n",
    "\n",
    "forest_hyp = grid.best_params_\n",
    "forest_hyp"
   ]
  },
  {
   "cell_type": "code",
   "execution_count": 29,
   "id": "ccdb5e09",
   "metadata": {},
   "outputs": [
    {
     "name": "stdout",
     "output_type": "stream",
     "text": [
      "F1 = 0.5759935975896225\n",
      "AUC_ROC = 0.8497412944446215\n"
     ]
    }
   ],
   "source": [
    "model_forest = RandomForestClassifier(max_depth=forest_hyp['max_depth'], n_estimators=forest_hyp['n_estimators'], random_state=CONST_RANDOM)\n",
    "scores_f1 = cross_val_score(model_forest, features_train, target_train, cv=8, scoring='f1')\n",
    "scores_roc_auc = cross_val_score(model_forest, features_train, target_train, cv=7, scoring='roc_auc')\n",
    "print(f'F1 = {scores_f1.mean()}')\n",
    "print(f'AUC_ROC = {scores_roc_auc.mean()}')"
   ]
  },
  {
   "cell_type": "markdown",
   "id": "b308d978",
   "metadata": {},
   "source": [
    "**Conclusion:** The quality of the model is unsatisfactory"
   ]
  },
  {
   "cell_type": "markdown",
   "id": "02d13765",
   "metadata": {},
   "source": [
    "### Model training taking into account the imbalance of classes"
   ]
  },
  {
   "cell_type": "markdown",
   "id": "5caa79ed",
   "metadata": {},
   "source": [
    "#### Useful functions"
   ]
  },
  {
   "cell_type": "code",
   "execution_count": 30,
   "id": "79d9984e",
   "metadata": {},
   "outputs": [],
   "source": [
    "def check_imbalance(features_zeros, features_ones):\n",
    "    count_zeros = features_zeros.shape[0]\n",
    "    count_ones = features_ones.shape[0]\n",
    "    answer = {}\n",
    "    if count_zeros > count_ones:\n",
    "        answer['0'] = round(count_zeros / count_ones, 2)\n",
    "        return answer\n",
    "    elif count_zeros < count_ones:\n",
    "        answer['1'] = round(count_ones / count_zeros, 2)\n",
    "        return answer\n",
    "    else:\n",
    "        return 'No class imbalance'"
   ]
  },
  {
   "cell_type": "code",
   "execution_count": 31,
   "id": "2b9ab1e3",
   "metadata": {},
   "outputs": [],
   "source": [
    "def get_prob_one(model, features, target):\n",
    "    model.fit(features, target)\n",
    "    probabilities = model.predict_proba(features)\n",
    "    probabilities_one = probabilities[:, 1]\n",
    "    return probabilities_one"
   ]
  },
  {
   "cell_type": "code",
   "execution_count": 32,
   "id": "14cfae7e",
   "metadata": {},
   "outputs": [],
   "source": [
    "def choose_thrashold(model, features, target):\n",
    "    model.fit(features, target)\n",
    "    best_threshold = 0\n",
    "    best_f1 = 0\n",
    "    answer = {}\n",
    "    for threshold in np.arange(0, 0.8, 0.02):\n",
    "        predict = get_prob_one(model, features, target) > threshold\n",
    "        f1 = f1_score(target, predict)\n",
    "        if f1 > best_f1:\n",
    "            best_f1 = f1\n",
    "            best_threshold = threshold\n",
    "    answer['best_f1'] = round(best_f1, 3)\n",
    "    answer['best_threshold'] = best_threshold\n",
    "    return answer"
   ]
  },
  {
   "cell_type": "code",
   "execution_count": 33,
   "id": "489c8005",
   "metadata": {},
   "outputs": [],
   "source": [
    "def display_auc(model, features, target):\n",
    "    \n",
    "    fpr, tpr, threshold = roc_curve(target, get_prob_one(model, features, target))\n",
    "\n",
    "    plt.figure()\n",
    "    plt.plot([0, 1], [0, 1], linestyle='--')\n",
    "    plt.plot(fpr, tpr, linestyle='-')\n",
    "\n",
    "    plt.xlim([0, 1])\n",
    "    plt.ylim([0, 1])\n",
    "\n",
    "    plt.xlabel('False Positive Rate')\n",
    "    plt.ylabel('True Positive Rate')\n",
    "\n",
    "    plt.title('ROC-curve')\n",
    "\n",
    "    plt.show()\n",
    "    \n",
    "    auc_roc = roc_auc_score(target, get_prob_one(model, features, target))\n",
    "    return f'AUC = {round(auc_roc, 3)}'"
   ]
  },
  {
   "cell_type": "markdown",
   "id": "d7e6e619",
   "metadata": {},
   "source": [
    "#### Delete class imbalance"
   ]
  },
  {
   "cell_type": "code",
   "execution_count": 34,
   "id": "ab966392",
   "metadata": {},
   "outputs": [],
   "source": [
    "features_zeros = features_train[target_train == 0]\n",
    "features_ones = features_train[target_train == 1]\n",
    "target_ones = target_train[target_train == 1]\n",
    "target_zeros = target_train[target_train == 0]"
   ]
  },
  {
   "cell_type": "code",
   "execution_count": 35,
   "id": "4192aec4",
   "metadata": {},
   "outputs": [
    {
     "data": {
      "text/plain": [
       "{'0': 3.97}"
      ]
     },
     "execution_count": 35,
     "metadata": {},
     "output_type": "execute_result"
    }
   ],
   "source": [
    "dict_answer = check_imbalance(features_zeros, features_ones)\n",
    "dict_answer"
   ]
  },
  {
   "cell_type": "markdown",
   "id": "1d437224",
   "metadata": {},
   "source": [
    "Features are imbalanced"
   ]
  },
  {
   "cell_type": "code",
   "execution_count": 36,
   "id": "b986adec",
   "metadata": {},
   "outputs": [
    {
     "name": "stdout",
     "output_type": "stream",
     "text": [
      "(12830, 11)\n",
      "(12830,)\n"
     ]
    }
   ],
   "source": [
    "features_upsampled = pd.concat([features_zeros] + [features_ones] * round(list(dict_answer.values())[0]))\n",
    "target_upsampled = pd.concat([target_zeros] + [target_ones] * round(list(dict_answer.values())[0]))\n",
    "\n",
    "features_upsampled, target_upsampled = shuffle(features_upsampled, target_upsampled, random_state=12345)\n",
    "\n",
    "print(features_upsampled.shape) # new_features_train\n",
    "print(target_upsampled.shape) #new_target_train"
   ]
  },
  {
   "cell_type": "markdown",
   "id": "c244f153",
   "metadata": {},
   "source": [
    "Let's apply two methods to eliminate class imbalance: \n",
    "1. class_weight='balanced'\n",
    "2. Upsampling "
   ]
  },
  {
   "cell_type": "markdown",
   "id": "cc363d69",
   "metadata": {},
   "source": [
    "### class_weight"
   ]
  },
  {
   "cell_type": "code",
   "execution_count": 37,
   "id": "52e2234b",
   "metadata": {},
   "outputs": [],
   "source": [
    "#WEIGHT_LIST_DS = [features_train, target_train, features_valid, target_valid]"
   ]
  },
  {
   "cell_type": "markdown",
   "id": "f9396990",
   "metadata": {},
   "source": [
    "#### LogisticRegression"
   ]
  },
  {
   "cell_type": "code",
   "execution_count": 38,
   "id": "2d0ff439",
   "metadata": {},
   "outputs": [
    {
     "data": {
      "text/plain": [
       "{'max_iter': 100, 'penalty': 'l1', 'solver': 'liblinear'}"
      ]
     },
     "execution_count": 38,
     "metadata": {},
     "output_type": "execute_result"
    }
   ],
   "source": [
    "model_log = LogisticRegression(random_state=CONST_RANDOM, class_weight='balanced')\n",
    "grid = GridSearchCV(model_log, PARAMS_LOG, cv=8, scoring='f1')\n",
    "grid.fit(features_train, target_train)\n",
    "\n",
    "logistic_hyp_clsw = grid.best_params_\n",
    "logistic_hyp_clsw"
   ]
  },
  {
   "cell_type": "code",
   "execution_count": 39,
   "id": "0a506170",
   "metadata": {},
   "outputs": [
    {
     "data": {
      "text/plain": [
       "{'best_f1': 0.497, 'best_threshold': 0.54}"
      ]
     },
     "execution_count": 39,
     "metadata": {},
     "output_type": "execute_result"
    }
   ],
   "source": [
    "model_log = LogisticRegression(max_iter=logistic_hyp_clsw['max_iter'], penalty=logistic_hyp_clsw['penalty'], solver=logistic_hyp_clsw['solver'], random_state=CONST_RANDOM, class_weight='balanced')\n",
    "choose_thrashold(model_log, features_train, target_train)\n",
    "\n"
   ]
  },
  {
   "cell_type": "code",
   "execution_count": 40,
   "id": "25b373b6",
   "metadata": {},
   "outputs": [
    {
     "data": {
      "image/png": "[encoded data removed]",
      "text/plain": [
       "<Figure size 640x480 with 1 Axes>"
      ]
     },
     "metadata": {},
     "output_type": "display_data"
    },
    {
     "data": {
      "text/plain": [
       "'AUC = 0.771'"
      ]
     },
     "execution_count": 40,
     "metadata": {},
     "output_type": "execute_result"
    }
   ],
   "source": [
    "display_auc(model_log, features_train, target_train)"
   ]
  },
  {
   "cell_type": "markdown",
   "id": "586d55e8",
   "metadata": {},
   "source": [
    "**Conclusion:** Quality of model is better, than withount class_weight='balanced', but it is unsatisfactory yet. Before **F1 = 0.32**"
   ]
  },
  {
   "cell_type": "markdown",
   "id": "7f7e88b3",
   "metadata": {},
   "source": [
    "#### DecisionTreeClassifier"
   ]
  },
  {
   "cell_type": "code",
   "execution_count": 41,
   "id": "085fabe9",
   "metadata": {},
   "outputs": [
    {
     "data": {
      "text/plain": [
       "{'criterion': 'entropy',\n",
       " 'max_depth': 7,\n",
       " 'min_samples_leaf': 11,\n",
       " 'splitter': 'best'}"
      ]
     },
     "execution_count": 41,
     "metadata": {},
     "output_type": "execute_result"
    }
   ],
   "source": [
    "model_tree = DecisionTreeClassifier(random_state=CONST_RANDOM, class_weight='balanced')\n",
    "grid = GridSearchCV(model_tree, PARAMS_TREE, cv=8, scoring='f1')\n",
    "grid.fit(features_train, target_train)\n",
    "\n",
    "tree_hyp_clsw = grid.best_params_\n",
    "tree_hyp_clsw"
   ]
  },
  {
   "cell_type": "code",
   "execution_count": 42,
   "id": "ebe27807",
   "metadata": {},
   "outputs": [
    {
     "data": {
      "text/plain": [
       "{'best_f1': 0.634, 'best_threshold': 0.64}"
      ]
     },
     "execution_count": 42,
     "metadata": {},
     "output_type": "execute_result"
    }
   ],
   "source": [
    "model_tree = DecisionTreeClassifier(max_depth=tree_hyp_clsw['max_depth'], criterion=tree_hyp_clsw['criterion'], min_samples_leaf=tree_hyp_clsw['min_samples_leaf'], splitter=tree_hyp_clsw['splitter'], random_state=CONST_RANDOM, class_weight='balanced')\n",
    "choose_thrashold(model_tree, features_train, target_train)\n",
    "\n"
   ]
  },
  {
   "cell_type": "code",
   "execution_count": 43,
   "id": "f373532e",
   "metadata": {},
   "outputs": [
    {
     "data": {
      "image/png": "[encoded data removed]",
      "text/plain": [
       "<Figure size 640x480 with 1 Axes>"
      ]
     },
     "metadata": {},
     "output_type": "display_data"
    },
    {
     "data": {
      "text/plain": [
       "'AUC = 0.88'"
      ]
     },
     "execution_count": 43,
     "metadata": {},
     "output_type": "execute_result"
    }
   ],
   "source": [
    "display_auc(model_tree, features_train, target_train)"
   ]
  },
  {
   "cell_type": "markdown",
   "id": "13438c0a",
   "metadata": {},
   "source": [
    "**Conclusion:** Quality of model is better, than without class_weight='balanced' and F1 is satisfactorily. Before, **F1 = 0.56**"
   ]
  },
  {
   "cell_type": "markdown",
   "id": "c150d280",
   "metadata": {},
   "source": [
    "**RandomForestClassifier**"
   ]
  },
  {
   "cell_type": "code",
   "execution_count": 44,
   "id": "649c70a7",
   "metadata": {},
   "outputs": [
    {
     "data": {
      "text/plain": [
       "{'max_depth': 12, 'n_estimators': 300}"
      ]
     },
     "execution_count": 44,
     "metadata": {},
     "output_type": "execute_result"
    }
   ],
   "source": [
    "model_forest = RandomForestClassifier(random_state=CONST_RANDOM, class_weight='balanced')\n",
    "grid = GridSearchCV(model_forest, PARAMS_FOREST, cv=8, scoring='f1')\n",
    "grid.fit(features_train, target_train)\n",
    "\n",
    "forest_hyp_clsw = grid.best_params_\n",
    "forest_hyp_clsw"
   ]
  },
  {
   "cell_type": "code",
   "execution_count": 45,
   "id": "974656a1",
   "metadata": {},
   "outputs": [
    {
     "data": {
      "text/plain": [
       "{'best_f1': 0.9, 'best_threshold': 0.46}"
      ]
     },
     "execution_count": 45,
     "metadata": {},
     "output_type": "execute_result"
    }
   ],
   "source": [
    "model_forest = RandomForestClassifier(max_depth=forest_hyp_clsw['max_depth'], n_estimators=forest_hyp_clsw['n_estimators'], random_state=CONST_RANDOM, class_weight='balanced')\n",
    "choose_thrashold(model_forest, features_train, target_train)\n",
    "\n"
   ]
  },
  {
   "cell_type": "code",
   "execution_count": 46,
   "id": "3517d42c",
   "metadata": {},
   "outputs": [
    {
     "data": {
      "image/png": "[encoded data removed]",
      "text/plain": [
       "<Figure size 640x480 with 1 Axes>"
      ]
     },
     "metadata": {},
     "output_type": "display_data"
    },
    {
     "data": {
      "text/plain": [
       "'AUC = 0.991'"
      ]
     },
     "execution_count": 46,
     "metadata": {},
     "output_type": "execute_result"
    }
   ],
   "source": [
    "display_auc(model_forest, features_train, target_train)"
   ]
  },
  {
   "cell_type": "markdown",
   "id": "7723848a",
   "metadata": {},
   "source": [
    "**Conclusion:** Quality of model has become much better. Before, **F = 0.57**"
   ]
  },
  {
   "cell_type": "markdown",
   "id": "c9c77f86",
   "metadata": {},
   "source": [
    "### Upsampling"
   ]
  },
  {
   "cell_type": "code",
   "execution_count": 47,
   "id": "a84ec676",
   "metadata": {},
   "outputs": [],
   "source": [
    "#UP_LIST_DS = [features_upsampled, target_upsampled, features_valid, target_valid]"
   ]
  },
  {
   "cell_type": "markdown",
   "id": "f698e478",
   "metadata": {},
   "source": [
    "#### LogisticRegression"
   ]
  },
  {
   "cell_type": "code",
   "execution_count": 48,
   "id": "7dc03b5d",
   "metadata": {},
   "outputs": [
    {
     "data": {
      "text/plain": [
       "{'max_iter': 100, 'penalty': 'l1', 'solver': 'liblinear'}"
      ]
     },
     "execution_count": 48,
     "metadata": {},
     "output_type": "execute_result"
    }
   ],
   "source": [
    "model_log = LogisticRegression(random_state=CONST_RANDOM)\n",
    "grid = GridSearchCV(model_log, PARAMS_LOG, cv=8, scoring='f1')\n",
    "grid.fit(features_upsampled, target_upsampled)\n",
    "\n",
    "logistic_hyp_up = grid.best_params_\n",
    "logistic_hyp_up"
   ]
  },
  {
   "cell_type": "code",
   "execution_count": 49,
   "id": "541c08ce",
   "metadata": {},
   "outputs": [
    {
     "data": {
      "text/plain": [
       "{'best_f1': 0.729, 'best_threshold': 0.42}"
      ]
     },
     "execution_count": 49,
     "metadata": {},
     "output_type": "execute_result"
    }
   ],
   "source": [
    "model_log = LogisticRegression(max_iter=logistic_hyp_up['max_iter'], penalty=logistic_hyp_up['penalty'], solver=logistic_hyp_up['solver'], random_state=CONST_RANDOM)\n",
    "choose_thrashold(model_log, features_upsampled, target_upsampled)\n",
    "\n"
   ]
  },
  {
   "cell_type": "code",
   "execution_count": 50,
   "id": "49a9cfda",
   "metadata": {},
   "outputs": [
    {
     "data": {
      "image/png": "[encoded data removed]",
      "text/plain": [
       "<Figure size 640x480 with 1 Axes>"
      ]
     },
     "metadata": {},
     "output_type": "display_data"
    },
    {
     "data": {
      "text/plain": [
       "'AUC = 0.771'"
      ]
     },
     "execution_count": 50,
     "metadata": {},
     "output_type": "execute_result"
    }
   ],
   "source": [
    "display_auc(model_log, features_upsampled, target_upsampled)"
   ]
  },
  {
   "cell_type": "markdown",
   "id": "de5b1356",
   "metadata": {},
   "source": [
    "**Conclusion:** Quality of model become better and it is satisfactorily. Before, **Without balance F1 = 0.32** and **With balanced F1 = 0.49**"
   ]
  },
  {
   "cell_type": "markdown",
   "id": "33b909c8",
   "metadata": {},
   "source": [
    "#### DecisionTreeClassifier"
   ]
  },
  {
   "cell_type": "code",
   "execution_count": 51,
   "id": "8f66ed1c",
   "metadata": {},
   "outputs": [
    {
     "data": {
      "text/plain": [
       "{'criterion': 'entropy',\n",
       " 'max_depth': 27,\n",
       " 'min_samples_leaf': 2,\n",
       " 'splitter': 'best'}"
      ]
     },
     "execution_count": 51,
     "metadata": {},
     "output_type": "execute_result"
    }
   ],
   "source": [
    "model_tree = DecisionTreeClassifier(random_state=CONST_RANDOM)\n",
    "grid = GridSearchCV(model_tree, PARAMS_TREE, cv=8, scoring='f1')\n",
    "grid.fit(features_upsampled, target_upsampled)\n",
    "\n",
    "tree_hyp_up = grid.best_params_\n",
    "tree_hyp_up"
   ]
  },
  {
   "cell_type": "code",
   "execution_count": 52,
   "id": "8e1b7ebf",
   "metadata": {},
   "outputs": [
    {
     "data": {
      "text/plain": [
       "{'best_f1': 0.991, 'best_threshold': 0.0}"
      ]
     },
     "execution_count": 52,
     "metadata": {},
     "output_type": "execute_result"
    }
   ],
   "source": [
    "model_tree = DecisionTreeClassifier(max_depth=tree_hyp_up['max_depth'], criterion=tree_hyp_up['criterion'], min_samples_leaf=tree_hyp_up['min_samples_leaf'], splitter=tree_hyp_up['splitter'], random_state=CONST_RANDOM)\n",
    "choose_thrashold(model_tree, features_upsampled, target_upsampled)\n",
    "\n"
   ]
  },
  {
   "cell_type": "code",
   "execution_count": 53,
   "id": "7ae9e504",
   "metadata": {},
   "outputs": [
    {
     "data": {
      "image/png": "[encoded data removed]",
      "text/plain": [
       "<Figure size 640x480 with 1 Axes>"
      ]
     },
     "metadata": {},
     "output_type": "display_data"
    },
    {
     "data": {
      "text/plain": [
       "'AUC = 0.999'"
      ]
     },
     "execution_count": 53,
     "metadata": {},
     "output_type": "execute_result"
    }
   ],
   "source": [
    "display_auc(model_tree, features_upsampled, target_upsampled)"
   ]
  },
  {
   "cell_type": "markdown",
   "id": "49799012",
   "metadata": {},
   "source": [
    "**Conclusion:** Quality of model become better and it is satisfactorily. Before **Without balance F = 0.56** and **With balanced F = 0.63**"
   ]
  },
  {
   "cell_type": "markdown",
   "id": "856a1904",
   "metadata": {},
   "source": [
    "#### RandomForestClassifier"
   ]
  },
  {
   "cell_type": "code",
   "execution_count": 54,
   "id": "986d8442",
   "metadata": {},
   "outputs": [
    {
     "data": {
      "text/plain": [
       "{'max_depth': 22, 'n_estimators': 100}"
      ]
     },
     "execution_count": 54,
     "metadata": {},
     "output_type": "execute_result"
    }
   ],
   "source": [
    "model_forest = RandomForestClassifier(random_state=CONST_RANDOM)\n",
    "grid = GridSearchCV(model_forest, PARAMS_FOREST, cv=8, scoring='f1')\n",
    "grid.fit(features_upsampled, target_upsampled)\n",
    "\n",
    "forest_hyp_up = grid.best_params_\n",
    "forest_hyp_up"
   ]
  },
  {
   "cell_type": "code",
   "execution_count": 55,
   "id": "37a1a22c",
   "metadata": {},
   "outputs": [
    {
     "data": {
      "text/plain": [
       "{'best_f1': 1.0, 'best_threshold': 0.46}"
      ]
     },
     "execution_count": 55,
     "metadata": {},
     "output_type": "execute_result"
    }
   ],
   "source": [
    "model_forest = RandomForestClassifier(max_depth=forest_hyp_up['max_depth'], n_estimators=forest_hyp_up['n_estimators'], random_state=CONST_RANDOM)\n",
    "choose_thrashold(model_forest, features_upsampled, target_upsampled)\n",
    "\n"
   ]
  },
  {
   "cell_type": "code",
   "execution_count": 56,
   "id": "9a7af665",
   "metadata": {},
   "outputs": [
    {
     "data": {
      "image/png": "[encoded data removed]",
      "text/plain": [
       "<Figure size 640x480 with 1 Axes>"
      ]
     },
     "metadata": {},
     "output_type": "display_data"
    },
    {
     "data": {
      "text/plain": [
       "'AUC = 1.0'"
      ]
     },
     "execution_count": 56,
     "metadata": {},
     "output_type": "execute_result"
    }
   ],
   "source": [
    "display_auc(model_forest, features_upsampled, target_upsampled)"
   ]
  },
  {
   "cell_type": "markdown",
   "id": "209d6502",
   "metadata": {},
   "source": [
    "**Conclusion:** Quality of model become must better and it is satisfactorily. Before **Without balance F = 0.57** and **With balanced F = 0.9**"
   ]
  },
  {
   "cell_type": "markdown",
   "id": "b287b1db",
   "metadata": {},
   "source": [
    "## Model testing"
   ]
  },
  {
   "cell_type": "markdown",
   "id": "7f32bd2a",
   "metadata": {},
   "source": [
    "The best model is RandomForestClassifier. Let's check quality using test samples"
   ]
  },
  {
   "cell_type": "markdown",
   "id": "e220430a",
   "metadata": {},
   "source": [
    "### class_weight"
   ]
  },
  {
   "cell_type": "code",
   "execution_count": 57,
   "id": "377cc7c8",
   "metadata": {},
   "outputs": [
    {
     "data": {
      "text/plain": [
       "{'best_f1': 0.991, 'best_threshold': 0.46}"
      ]
     },
     "execution_count": 57,
     "metadata": {},
     "output_type": "execute_result"
    }
   ],
   "source": [
    "model_forest = RandomForestClassifier(max_depth=forest_hyp_clsw['max_depth'], n_estimators=forest_hyp_clsw['n_estimators'], random_state=CONST_RANDOM, class_weight='balanced')\n",
    "choose_thrashold(model_forest, features_test, target_test)\n"
   ]
  },
  {
   "cell_type": "code",
   "execution_count": 58,
   "id": "280213ca",
   "metadata": {},
   "outputs": [
    {
     "data": {
      "image/png": "[encoded data removed]",
      "text/plain": [
       "<Figure size 640x480 with 1 Axes>"
      ]
     },
     "metadata": {},
     "output_type": "display_data"
    },
    {
     "data": {
      "text/plain": [
       "'AUC = 1.0'"
      ]
     },
     "execution_count": 58,
     "metadata": {},
     "output_type": "execute_result"
    }
   ],
   "source": [
    "display_auc(model_forest, features_test, target_test)"
   ]
  },
  {
   "cell_type": "markdown",
   "id": "9661903c",
   "metadata": {},
   "source": [
    "### Upsampling"
   ]
  },
  {
   "cell_type": "code",
   "execution_count": 59,
   "id": "4ea82a56",
   "metadata": {},
   "outputs": [
    {
     "data": {
      "text/plain": [
       "{'best_f1': 1.0, 'best_threshold': 0.38}"
      ]
     },
     "execution_count": 59,
     "metadata": {},
     "output_type": "execute_result"
    }
   ],
   "source": [
    "model_forest = RandomForestClassifier(max_depth=forest_hyp_up['max_depth'], n_estimators=forest_hyp_up['n_estimators'], random_state=CONST_RANDOM)\n",
    "choose_thrashold(model_forest, features_test, target_test)\n"
   ]
  },
  {
   "cell_type": "code",
   "execution_count": 60,
   "id": "04171914",
   "metadata": {},
   "outputs": [
    {
     "data": {
      "image/png": "[encoded data removed]",
      "text/plain": [
       "<Figure size 640x480 with 1 Axes>"
      ]
     },
     "metadata": {},
     "output_type": "display_data"
    },
    {
     "data": {
      "text/plain": [
       "'AUC = 1.0'"
      ]
     },
     "execution_count": 60,
     "metadata": {},
     "output_type": "execute_result"
    }
   ],
   "source": [
    "display_auc(model_forest, features_test, target_test)"
   ]
  },
  {
   "cell_type": "markdown",
   "id": "8a66e423",
   "metadata": {},
   "source": [
    "**Conclusion:** In the course of the study, we found that the most effective model in this task is the Random Forest with the imbalance method of the Upsampling class. To assess the quality of the model as a whole, it is worth using the aggregate metric F1."
   ]
  },
  {
   "cell_type": "code",
   "execution_count": null,
   "id": "efc68070",
   "metadata": {},
   "outputs": [],
   "source": []
  }
 ],
 "metadata": {
  "kernelspec": {
   "display_name": "Python 3 (ipykernel)",
   "language": "python",
   "name": "python3"
  },
  "language_info": {
   "codemirror_mode": {
    "name": "ipython",
    "version": 3
   },
   "file_extension": ".py",
   "mimetype": "text/x-python",
   "name": "python",
   "nbconvert_exporter": "python",
   "pygments_lexer": "ipython3",
   "version": "3.9.13"
  }
 },
 "nbformat": 4,
 "nbformat_minor": 5
}
